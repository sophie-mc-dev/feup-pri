{
 "cells": [
  {
   "cell_type": "markdown",
   "metadata": {},
   "source": [
    "### Imports\n"
   ]
  },
  {
   "cell_type": "code",
   "execution_count": 29,
   "metadata": {},
   "outputs": [],
   "source": [
    "import matplotlib.pyplot as plt\n",
    "from sklearn.metrics import PrecisionRecallDisplay\n",
    "import requests\n",
    "import pandas as pd\n",
    "import numpy as np"
   ]
  },
  {
   "cell_type": "markdown",
   "metadata": {},
   "source": [
    "## Constants\n"
   ]
  },
  {
   "cell_type": "markdown",
   "metadata": {},
   "source": [
    "### Paths to the qrels files and qrels Solr query urls\n"
   ]
  },
  {
   "cell_type": "code",
   "execution_count": 30,
   "metadata": {},
   "outputs": [],
   "source": [
    "QREL2_FILE = \"../../qrels/q2.txt\"\n",
    "\n",
    "# purple plants (top 20)\n",
    "QREL2_SIMPLE_URL = \"http://localhost:8983/solr/semantic_plants/select?defType=edismax&fl=Name%20Introduction%20Description%20Characteristics&indent=true&q.op=AND&q=purple%20flowers%20NOT(tree)&qf=Description%20Introduction%20Characteristics&rows=20&useParams=\"\n",
    "QREL2_BOOSTED_URL = \"http://localhost:8983/solr/semantic_plants/select?defType=edismax&fl=Name%20Introduction%20Description%20Characteristics&indent=true&q.op=AND&q=%22purple%20flowers%22~5%20NOT(tree)%20purple%5E2&qf=Description%20Introduction%20Characteristics&rows=20&useParams=\"\n"
   ]
  },
  {
   "cell_type": "markdown",
   "metadata": {},
   "source": [
    "### Store all info\n"
   ]
  },
  {
   "cell_type": "code",
   "execution_count": 31,
   "metadata": {},
   "outputs": [],
   "source": [
    "info = {\n",
    "    \"qrel_2\": {\n",
    "        \"qrels_file\": QREL2_FILE,\n",
    "    },\n",
    "}"
   ]
  },
  {
   "cell_type": "markdown",
   "metadata": {},
   "source": [
    "## Calculate Precision-Recall\n"
   ]
  },
  {
   "cell_type": "code",
   "execution_count": 32,
   "metadata": {},
   "outputs": [],
   "source": [
    "def calculate_precision_recall(results, relevant):\n",
    "    # Calculate precision and recall values\n",
    "    precision_values = [\n",
    "        len([doc for doc in results[:idx] if doc in relevant]) / idx\n",
    "        for idx, _ in enumerate(results, start=1)\n",
    "    ]\n",
    "\n",
    "    recall_values = [\n",
    "        len([doc for doc in results[:idx] if doc in relevant]) / len(relevant)\n",
    "        for idx, _ in enumerate(results, start=1)\n",
    "    ]\n",
    "\n",
    "    precision_recall_match = {k: v for k, v in zip(recall_values, precision_values)}\n",
    "\n",
    "    # Extend recall_values to include traditional steps for a better curve (0.1, 0.2 ...)\n",
    "    recall_values.extend(\n",
    "        [step for step in np.arange(0.1, 1.1, 0.1) if step not in recall_values]\n",
    "    )\n",
    "    recall_values = sorted(set(recall_values))  # Sort the values\n",
    "\n",
    "    # Extend matching dict to include these new intermediate steps\n",
    "    for idx, step in enumerate(recall_values):\n",
    "        if step not in precision_recall_match:\n",
    "            if recall_values[idx - 1] in precision_recall_match:\n",
    "                precision_recall_match[step] = precision_recall_match[\n",
    "                    recall_values[idx - 1]\n",
    "                ]\n",
    "            else:\n",
    "                precision_recall_match[step] = precision_recall_match[\n",
    "                    recall_values[idx + 1]\n",
    "                ]\n",
    "\n",
    "    return precision_recall_match, recall_values"
   ]
  },
  {
   "cell_type": "markdown",
   "metadata": {},
   "source": [
    "## METRICS TABLE"
   ]
  },
  {
   "cell_type": "code",
   "execution_count": 33,
   "metadata": {},
   "outputs": [],
   "source": [
    "def calculate_metrics(results_file, relevant_file):\n",
    "    # Read plant names from text files\n",
    "    with open(results_file, 'r') as file:\n",
    "        results = [line.strip() for line in file.readlines()]\n",
    "\n",
    "    with open(relevant_file, 'r') as file:\n",
    "        relevant = [line.strip() for line in file.readlines()]\n",
    "\n",
    "    # Calculate metrics\n",
    "    metrics = {}\n",
    "    metric = lambda f: metrics.setdefault(f.__name__, f)\n",
    "\n",
    "    @metric\n",
    "    def ap(results, relevant):\n",
    "        # Calculation of Average Precision\n",
    "        precision_values = []\n",
    "        relevant_count = 0\n",
    "\n",
    "        for idx, doc in enumerate(results):\n",
    "            if doc in relevant:\n",
    "                relevant_count += 1\n",
    "                precision_at_k = relevant_count / (idx + 1)\n",
    "                precision_values.append(precision_at_k)\n",
    "\n",
    "        if not precision_values:\n",
    "            return 0.0\n",
    "\n",
    "        return sum(precision_values) / len(precision_values)\n",
    "\n",
    "    @metric\n",
    "    def p10(results, relevant, n=20):\n",
    "        # Calculation of Precision at N\n",
    "        return len([doc for doc in results[:n] if doc in relevant]) / n\n",
    "\n",
    "    def calculate_metric(key, results, relevant):\n",
    "        return metrics[key](results, relevant)\n",
    "\n",
    "    # Define metrics to be calculated\n",
    "    evaluation_metrics = {\n",
    "        'ap': 'Average Precision',\n",
    "        'p10': 'Precision at 20 (P@20)'\n",
    "    }\n",
    "\n",
    "    # Calculate all metrics and export results as LaTeX table\n",
    "    df = pd.DataFrame([['Metric', 'Value']] +\n",
    "                      [[evaluation_metrics[m], calculate_metric(m, results, relevant)]\n",
    "                       for m in evaluation_metrics])\n",
    "    return df"
   ]
  },
  {
   "cell_type": "markdown",
   "metadata": {},
   "source": [
    "## PRECISION-RECALL CURVE"
   ]
  },
  {
   "cell_type": "code",
   "execution_count": 34,
   "metadata": {},
   "outputs": [],
   "source": [
    "def generate_plots(precision_recall_match, recall_values, type):\n",
    "    disp = PrecisionRecallDisplay([precision_recall_match.get(r) for r in recall_values], recall_values)\n",
    "    disp.plot()\n",
    "    plt.title(f\"Q2 {type} Precision-Recall Curve\")\n",
    "    plt.ylim(-0.1, 1.1) \n",
    "    # plt.savefig(f'{query_name}_precision_recall.pdf')"
   ]
  },
  {
   "cell_type": "markdown",
   "metadata": {},
   "source": [
    "## OUTPUTS"
   ]
  },
  {
   "cell_type": "code",
   "execution_count": 35,
   "metadata": {},
   "outputs": [
    {
     "name": "stdout",
     "output_type": "stream",
     "text": [
      "                        0         1\n",
      "0                  Metric     Value\n",
      "1       Average Precision  0.840678\n",
      "2  Precision at 20 (P@20)       0.7\n",
      "                        0         1\n",
      "0                  Metric     Value\n",
      "1       Average Precision  0.855269\n",
      "2  Precision at 20 (P@20)      0.75\n"
     ]
    },
    {
     "data": {
      "image/png": "[encoded data removed]",
      "text/plain": [
       "<Figure size 640x480 with 1 Axes>"
      ]
     },
     "metadata": {},
     "output_type": "display_data"
    },
    {
     "data": {
      "image/png": "[encoded data removed]",
      "text/plain": [
       "<Figure size 640x480 with 1 Axes>"
      ]
     },
     "metadata": {},
     "output_type": "display_data"
    }
   ],
   "source": [
    "import json\n",
    "\n",
    "def read_results_from_txt(file_path):\n",
    "    with open(file_path, 'r') as file:\n",
    "        results = file.readlines()\n",
    "        results = [result.strip() for result in results]\n",
    "        return results\n",
    "\n",
    "# Read qrels to extract relevant documents\n",
    "relevant_file = \"../../qrels/q2.txt\"\n",
    "relevant = read_results_from_txt(relevant_file)\n",
    "\n",
    "# Assigning the read data to simple_results and boosted_results\n",
    "simple_results_file = \"./simple_results.txt\"\n",
    "boosted_results_file = \"./boosted_results.txt\"\n",
    "\n",
    "simple_results = read_results_from_txt(simple_results_file)\n",
    "boosted_results = read_results_from_txt(boosted_results_file)\n",
    "\n",
    "# Calculate precision-recall values for both simple and boosted queries\n",
    "simple_precision_recall_match, recall_values_simple = calculate_precision_recall(simple_results, relevant)\n",
    "boosted_precision_recall_match, recall_values_boosted = calculate_precision_recall(boosted_results, relevant)\n",
    "\n",
    "# Generate plots for both simple and boosted queries\n",
    "generate_plots(simple_precision_recall_match, recall_values_simple, \"simple\")\n",
    "generate_plots(boosted_precision_recall_match, recall_values_boosted, \"boosted\")\n",
    "\n",
    "# Calculate metrics for both simple and boosted queries and export results as LaTeX tables\n",
    "df_simple_metrics = calculate_metrics(simple_results_file, relevant_file)\n",
    "df_boosted_metrics = calculate_metrics(boosted_results_file, relevant_file)\n",
    "\n",
    "print(df_simple_metrics)\n",
    "print(df_boosted_metrics)\n",
    "\n",
    "with open(f'./results-tex/query2_simple_results.tex', 'w') as tf_simple:\n",
    "    tf_simple.write(df_simple_metrics.to_latex())\n",
    "\n",
    "with open(f'./results-tex/query2_boosted_results.tex', 'w') as tf_boosted:\n",
    "    tf_boosted.write(df_boosted_metrics.to_latex())\n"
   ]
  }
 ],
 "metadata": {
  "kernelspec": {
   "display_name": "Python 3 (ipykernel)",
   "language": "python",
   "name": "python3"
  },
  "language_info": {
   "codemirror_mode": {
    "name": "ipython",
    "version": 3
   },
   "file_extension": ".py",
   "mimetype": "text/x-python",
   "name": "python",
   "nbconvert_exporter": "python",
   "pygments_lexer": "ipython3",
   "version": "3.11.5"
  }
 },
 "nbformat": 4,
 "nbformat_minor": 2
}
