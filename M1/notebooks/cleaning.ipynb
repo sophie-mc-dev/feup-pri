{
 "cells": [
  {
   "cell_type": "markdown",
   "metadata": {},
   "source": [
    "### Imports"
   ]
  },
  {
   "cell_type": "code",
   "execution_count": null,
   "metadata": {},
   "outputs": [],
   "source": [
    "import pandas as pd"
   ]
  },
  {
   "cell_type": "markdown",
   "metadata": {},
   "source": [
    "### Load and learn about the dataset"
   ]
  },
  {
   "cell_type": "code",
   "execution_count": null,
   "metadata": {},
   "outputs": [],
   "source": [
    "# First, we need to set the display options for pandas to show all columns (otherwise it won't show all columns)\n",
    "pd.set_option('display.max_columns', None)\n",
    "\n",
    "# Next, we need to read the data from the CSV file\n",
    "plants_df = pd.read_csv('../data/combined_data.csv')\n",
    "\n",
    "plants_df.head()"
   ]
  },
  {
   "cell_type": "markdown",
   "metadata": {},
   "source": [
    "### Find out number of columns and their designation"
   ]
  },
  {
   "cell_type": "code",
   "execution_count": null,
   "metadata": {},
   "outputs": [],
   "source": [
    "num_columns = plants_df.shape[1]\n",
    "print(f'The DataFrame has {num_columns} columns.')"
   ]
  },
  {
   "cell_type": "code",
   "execution_count": null,
   "metadata": {},
   "outputs": [],
   "source": [
    "# List all columns vertically\n",
    "for column in plants_df.columns:\n",
    "    print(column)"
   ]
  },
  {
   "cell_type": "markdown",
   "metadata": {},
   "source": [
    "### Treat columns before start merging"
   ]
  },
  {
   "cell_type": "code",
   "execution_count": null,
   "metadata": {},
   "outputs": [],
   "source": [
    "# Columns treatment before combining\n",
    "plants_df.rename(columns={'Text': 'Introduction'}, inplace=True)\n",
    "\n",
    "def remove_colon_from_column_names(df):\n",
    "    df.columns = df.columns.str.replace(':', '')\n",
    "    return df\n",
    "\n",
    "# Call the function to remove colons from column names\n",
    "plants_df = remove_colon_from_column_names(plants_df)\n",
    "\n",
    "# Print the DataFrame with updated column names\n",
    "for column_name in plants_df.columns:\n",
    "    print(column_name)"
   ]
  },
  {
   "cell_type": "code",
   "execution_count": null,
   "metadata": {},
   "outputs": [],
   "source": [
    "pd.set_option('max_colwidth', 100)  # Adjust the value as needed\n",
    "print(plants_df['Introduction'].head(10))"
   ]
  },
  {
   "cell_type": "code",
   "execution_count": null,
   "metadata": {},
   "outputs": [],
   "source": [
    "# Clean concatenated text\n",
    "plants_df['Introduction'] = plants_df['Introduction'].str.replace(r'[\\n\\r]', '', regex=True).str.strip()\n",
    "print(plants_df['Introduction'].head(10))"
   ]
  },
  {
   "cell_type": "code",
   "execution_count": null,
   "metadata": {},
   "outputs": [],
   "source": [
    "# Save the resulting DataFrame to a CSV file\n",
    "plants_df.to_csv('../data/cleaned_data.csv', index=False) "
   ]
  }
 ],
 "metadata": {
  "kernelspec": {
   "display_name": "Python 3",
   "language": "python",
   "name": "python3"
  },
  "language_info": {
   "codemirror_mode": {
    "name": "ipython",
    "version": 3
   },
   "file_extension": ".py",
   "mimetype": "text/x-python",
   "name": "python",
   "nbconvert_exporter": "python",
   "pygments_lexer": "ipython3",
   "version": "3.11.5"
  }
 },
 "nbformat": 4,
 "nbformat_minor": 2
}
